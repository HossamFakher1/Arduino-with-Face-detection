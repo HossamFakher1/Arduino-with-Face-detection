{
 "cells": [
  {
   "cell_type": "code",
   "execution_count": 3,
   "metadata": {},
   "outputs": [
    {
     "name": "stdout",
     "output_type": "stream",
     "text": [
      "Num GPUs Available:  1\n"
     ]
    }
   ],
   "source": [
    "import tensorflow as tf\n",
    "print(\"Num GPUs Available: \", len(tf.config.experimental.list_physical_devices('GPU')))\n",
    "tf.config.list_physical_devices('GPU')\n",
    "\n",
    "\n",
    "from keras.models import load_model\n",
    "from time import sleep\n",
    "from keras.preprocessing.image import img_to_array\n",
    "from keras.preprocessing import image\n",
    "import cv2\n",
    "import numpy as np\n",
    "\n",
    "\n",
    "face_classifier = cv2.CascadeClassifier('haarcascade_frontalface_default.xml')\n",
    "\n"
   ]
  },
  {
   "cell_type": "code",
   "execution_count": 6,
   "metadata": {},
   "outputs": [],
   "source": [
    "from pyfirmata import Arduino\n",
    "import time\n",
    "cap = cv2.VideoCapture(0)\n",
    "cap.set(3,1280)\n",
    "cap.set(4,720)\n",
    "if __name__ == \"__main__\" :\n",
    "    board =Arduino('COM5')\n",
    "    while True:\n",
    "        # Grab a single frame of video\n",
    "        \n",
    "        ret, frame = cap.read()\n",
    "        labels = []\n",
    "\n",
    "        gray = cv2.cvtColor(frame,cv2.COLOR_BGR2RGB)\n",
    "        faces = face_classifier.detectMultiScale(gray,1.3,4)\n",
    "        \n",
    "        for (x,y,w,h) in faces:\n",
    "            cv2.rectangle(frame,(x,y),(x+w,y+h),(255,0,0),3)\n",
    "            roi_gray = gray[y:y+h,x:x+w]\n",
    "            roi_gray = cv2.resize(roi_gray,(100,100),interpolation=cv2.INTER_AREA)\n",
    "\n",
    "\n",
    "            if np.sum([roi_gray])!=0:\n",
    "                roi = roi_gray.astype('float')/255.0\n",
    "                roi = img_to_array(roi)\n",
    "                roi = np.expand_dims(roi,axis=0)\n",
    "\n",
    "            # make a prediction on the ROI, then lookup the class\n",
    "\n",
    "                preds = 'Hossam'\n",
    "                label=class_labels[preds.argmax()]\n",
    "                label_position = (x,y)\n",
    "                cv2.putText(frame,label,label_position,cv2.FONT_HERSHEY_SIMPLEX,2,(0,255,0),3)\n",
    "                board.digital[8].write(1)\n",
    "                board.digital[7].write(1)\n",
    "                board.digital[6].write(1)\n",
    "                time.sleep(0.05)\n",
    "                board.digital[8].write(0)\n",
    "                board.digital[7].write(0)\n",
    "                board.digital[6].write(0)\n",
    "                \n",
    "        else:\n",
    "            board.digital[8].write(0)\n",
    "            board.digital[7].write(0)\n",
    "            board.digital[6].write(0)\n",
    "                \n",
    "        cv2.imshow('Emotion Detector',frame)\n",
    "        if cv2.waitKey(1) & 0xFF == ord('q'):\n",
    "            break\n",
    "\n",
    "cap.release()\n",
    "cv2.destroyAllWindows()\n",
    "    \n",
    "\n",
    "        "
   ]
  },
  {
   "cell_type": "code",
   "execution_count": null,
   "metadata": {},
   "outputs": [],
   "source": []
  },
  {
   "cell_type": "code",
   "execution_count": null,
   "metadata": {},
   "outputs": [],
   "source": []
  }
 ],
 "metadata": {
  "kernelspec": {
   "display_name": "Python 3",
   "language": "python",
   "name": "python3"
  },
  "language_info": {
   "codemirror_mode": {
    "name": "ipython",
    "version": 3
   },
   "file_extension": ".py",
   "mimetype": "text/x-python",
   "name": "python",
   "nbconvert_exporter": "python",
   "pygments_lexer": "ipython3",
   "version": "3.8.5"
  }
 },
 "nbformat": 4,
 "nbformat_minor": 4
}
